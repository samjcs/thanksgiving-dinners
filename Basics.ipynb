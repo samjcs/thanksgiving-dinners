{
 "cells": [
  {
   "cell_type": "code",
   "execution_count": 89,
   "metadata": {
    "collapsed": false
   },
   "outputs": [],
   "source": [
    "import pandas as pd\n",
    "\n",
    "data = pd.read_csv(\"thanksgiving.csv\", encoding=\"Latin-1\")\n"
   ]
  },
  {
   "cell_type": "code",
   "execution_count": 90,
   "metadata": {
    "collapsed": false
   },
   "outputs": [
    {
     "name": "stdout",
     "output_type": "stream",
     "text": [
      "['RespondentID', 'Do you celebrate Thanksgiving?', 'What is typically the main dish at your Thanksgiving dinner?', 'What is typically the main dish at your Thanksgiving dinner? - Other (please specify)', 'How is the main dish typically cooked?', 'How is the main dish typically cooked? - Other (please specify)', 'What kind of stuffing/dressing do you typically have?', 'What kind of stuffing/dressing do you typically have? - Other (please specify)', 'What type of cranberry saucedo you typically have?', 'What type of cranberry saucedo you typically have? - Other (please specify)', 'Do you typically have gravy?', 'Which of these side dishes aretypically served at your Thanksgiving dinner? Please select all that apply. - Brussel sprouts', 'Which of these side dishes aretypically served at your Thanksgiving dinner? Please select all that apply. - Carrots', 'Which of these side dishes aretypically served at your Thanksgiving dinner? Please select all that apply. - Cauliflower', 'Which of these side dishes aretypically served at your Thanksgiving dinner? Please select all that apply. - Corn', 'Which of these side dishes aretypically served at your Thanksgiving dinner? Please select all that apply. - Cornbread', 'Which of these side dishes aretypically served at your Thanksgiving dinner? Please select all that apply. - Fruit salad', 'Which of these side dishes aretypically served at your Thanksgiving dinner? Please select all that apply. - Green beans/green bean casserole', 'Which of these side dishes aretypically served at your Thanksgiving dinner? Please select all that apply. - Macaroni and cheese', 'Which of these side dishes aretypically served at your Thanksgiving dinner? Please select all that apply. - Mashed potatoes', 'Which of these side dishes aretypically served at your Thanksgiving dinner? Please select all that apply. - Rolls/biscuits', 'Which of these side dishes aretypically served at your Thanksgiving dinner? Please select all that apply. - Squash', 'Which of these side dishes aretypically served at your Thanksgiving dinner? Please select all that apply. - Vegetable salad', 'Which of these side dishes aretypically served at your Thanksgiving dinner? Please select all that apply. - Yams/sweet potato casserole', 'Which of these side dishes aretypically served at your Thanksgiving dinner? Please select all that apply. - Other (please specify)', 'Which of these side dishes aretypically served at your Thanksgiving dinner? Please select all that apply. - Other (please specify).1', 'Which type of pie is typically served at your Thanksgiving dinner? Please select all that apply. - Apple', 'Which type of pie is typically served at your Thanksgiving dinner? Please select all that apply. - Buttermilk', 'Which type of pie is typically served at your Thanksgiving dinner? Please select all that apply. - Cherry', 'Which type of pie is typically served at your Thanksgiving dinner? Please select all that apply. - Chocolate', 'Which type of pie is typically served at your Thanksgiving dinner? Please select all that apply. - Coconut cream', 'Which type of pie is typically served at your Thanksgiving dinner? Please select all that apply. - Key lime', 'Which type of pie is typically served at your Thanksgiving dinner? Please select all that apply. - Peach', 'Which type of pie is typically served at your Thanksgiving dinner? Please select all that apply. - Pecan', 'Which type of pie is typically served at your Thanksgiving dinner? Please select all that apply. - Pumpkin', 'Which type of pie is typically served at your Thanksgiving dinner? Please select all that apply. - Sweet Potato', 'Which type of pie is typically served at your Thanksgiving dinner? Please select all that apply. - None', 'Which type of pie is typically served at your Thanksgiving dinner? Please select all that apply. - Other (please specify)', 'Which type of pie is typically served at your Thanksgiving dinner? Please select all that apply. - Other (please specify).1', 'Which of these desserts do you typically have at Thanksgiving dinner? Please select all that apply.   - Apple cobbler', 'Which of these desserts do you typically have at Thanksgiving dinner? Please select all that apply.   - Blondies', 'Which of these desserts do you typically have at Thanksgiving dinner? Please select all that apply.   - Brownies', 'Which of these desserts do you typically have at Thanksgiving dinner? Please select all that apply.   - Carrot cake', 'Which of these desserts do you typically have at Thanksgiving dinner? Please select all that apply.   - Cheesecake', 'Which of these desserts do you typically have at Thanksgiving dinner? Please select all that apply.   - Cookies', 'Which of these desserts do you typically have at Thanksgiving dinner? Please select all that apply.   - Fudge', 'Which of these desserts do you typically have at Thanksgiving dinner? Please select all that apply.   - Ice cream', 'Which of these desserts do you typically have at Thanksgiving dinner? Please select all that apply.   - Peach cobbler', 'Which of these desserts do you typically have at Thanksgiving dinner? Please select all that apply.   - None', 'Which of these desserts do you typically have at Thanksgiving dinner? Please select all that apply.   - Other (please specify)', 'Which of these desserts do you typically have at Thanksgiving dinner? Please select all that apply.   - Other (please specify).1', 'Do you typically pray before or after the Thanksgiving meal?', 'How far will you travel for Thanksgiving?', \"Will you watch any of the following programs on Thanksgiving? Please select all that apply. - Macy's Parade\", 'What\\'s the age cutoff at your \"kids\\' table\" at Thanksgiving?', 'Have you ever tried to meet up with hometown friends on Thanksgiving night?', 'Have you ever attended a \"Friendsgiving?\"', 'Will you shop any Black Friday sales on Thanksgiving Day?', 'Do you work in retail?', 'Will you employer make you work on Black Friday?', 'How would you describe where you live?', 'Age', 'What is your gender?', 'How much total combined money did all members of your HOUSEHOLD earn last year?', 'US Region']\n"
     ]
    }
   ],
   "source": [
    "print(list(data.columns))"
   ]
  },
  {
   "cell_type": "code",
   "execution_count": 91,
   "metadata": {
    "collapsed": false
   },
   "outputs": [
    {
     "data": {
      "text/plain": [
       "Yes    980\n",
       "No      78\n",
       "Name: Do you celebrate Thanksgiving?, dtype: int64"
      ]
     },
     "execution_count": 91,
     "metadata": {},
     "output_type": "execute_result"
    }
   ],
   "source": [
    "data['Do you celebrate Thanksgiving?'].value_counts()"
   ]
  },
  {
   "cell_type": "code",
   "execution_count": 92,
   "metadata": {
    "collapsed": false
   },
   "outputs": [
    {
     "data": {
      "text/plain": [
       "Yes    980\n",
       "Name: Do you celebrate Thanksgiving?, dtype: int64"
      ]
     },
     "execution_count": 92,
     "metadata": {},
     "output_type": "execute_result"
    }
   ],
   "source": [
    "data = data[data['Do you celebrate Thanksgiving?'] == \"Yes\"]\n",
    "data['Do you celebrate Thanksgiving?'].value_counts()\n",
    "\n",
    "\n"
   ]
  },
  {
   "cell_type": "code",
   "execution_count": 93,
   "metadata": {
    "collapsed": false
   },
   "outputs": [
    {
     "data": {
      "text/plain": [
       "Turkey                    859\n",
       "Other (please specify)     35\n",
       "Ham/Pork                   29\n",
       "Tofurkey                   20\n",
       "Chicken                    12\n",
       "Roast beef                 11\n",
       "I don't know                5\n",
       "Turducken                   3\n",
       "Name: What is typically the main dish at your Thanksgiving dinner?, dtype: int64"
      ]
     },
     "execution_count": 93,
     "metadata": {},
     "output_type": "execute_result"
    }
   ],
   "source": [
    "data['What is typically the main dish at your Thanksgiving dinner?'].value_counts()"
   ]
  },
  {
   "cell_type": "code",
   "execution_count": 94,
   "metadata": {
    "collapsed": false
   },
   "outputs": [
    {
     "name": "stdout",
     "output_type": "stream",
     "text": [
      "4      Yes\n",
      "33     Yes\n",
      "69      No\n",
      "72      No\n",
      "77     Yes\n",
      "145    Yes\n",
      "175    Yes\n",
      "218     No\n",
      "243    Yes\n",
      "275     No\n",
      "393    Yes\n",
      "399    Yes\n",
      "571    Yes\n",
      "594    Yes\n",
      "628     No\n",
      "774     No\n",
      "820     No\n",
      "837    Yes\n",
      "860     No\n",
      "953    Yes\n",
      "Name: Do you typically have gravy?, dtype: object\n"
     ]
    }
   ],
   "source": [
    "tofurkey_gravy = data[data[\"What is typically the main dish at your Thanksgiving dinner?\"] == \"Tofurkey\"]\n",
    "print(tofurkey_gravy[\"Do you typically have gravy?\"])"
   ]
  },
  {
   "cell_type": "code",
   "execution_count": 95,
   "metadata": {
    "collapsed": false
   },
   "outputs": [
    {
     "name": "stdout",
     "output_type": "stream",
     "text": [
      "False    876\n",
      "True     104\n",
      "dtype: int64\n"
     ]
    }
   ],
   "source": [
    "apple_isnull = data[\"Which type of pie is typically served at your Thanksgiving dinner? Please select all that apply. - Apple\"].isnull()\n",
    "pumpkin_isnull = data[\"Which type of pie is typically served at your Thanksgiving dinner? Please select all that apply. - Pumpkin\"].isnull()\n",
    "pecan_isnull = data[\"Which type of pie is typically served at your Thanksgiving dinner? Please select all that apply. - Pecan\"].isnull()\n",
    "no_pies = apple_isnull & pumpkin_isnull & pecan_isnull\n",
    "print(no_pies.value_counts())"
   ]
  },
  {
   "cell_type": "markdown",
   "metadata": {
    "collapsed": true
   },
   "source": [
    "## Age groups of people that ate Thanksgiving dinner\n",
    "\n",
    "The average age of survey respondants that stated they ate thanksgiving dinner was age 40 acording to to our description of the column. A problem with this method is in the age_to_int method only looking at the first age in the age group."
   ]
  },
  {
   "cell_type": "code",
   "execution_count": 96,
   "metadata": {
    "collapsed": false
   },
   "outputs": [
    {
     "data": {
      "text/plain": [
       "count    947.000000\n",
       "mean      40.089757\n",
       "std       15.352014\n",
       "min       18.000000\n",
       "25%       30.000000\n",
       "50%       45.000000\n",
       "75%       60.000000\n",
       "max       60.000000\n",
       "Name: int_age, dtype: float64"
      ]
     },
     "execution_count": 96,
     "metadata": {},
     "output_type": "execute_result"
    }
   ],
   "source": [
    "def age_to_int(age_string):\n",
    "    if(pd.isnull(age_string)):\n",
    "        return None\n",
    "    else:\n",
    "        strArray = age_string.split(' ')\n",
    "        age = int(strArray[0].replace('+',''))\n",
    "        return age\n",
    "data['int_age'] = data['Age'].apply(age_to_int)\n",
    "data['int_age'].describe()"
   ]
  },
  {
   "cell_type": "markdown",
   "metadata": {},
   "source": [
    "## Average Income of households that ate thanksgiving\n",
    "\n",
    "By taking the first value of the reported income groups we can get a good understanding of a households income for the respondants that ate thanksgiving dinner.\n",
    "\n",
    "The statitic do not show an accurate representation of what the income might be, but only what the possible minimums could be. So we can assume that average income might be higher than whats displayed, but we know for certian that the average cannot not be lower.\n",
    "\n",
    "Based off out findings the average respondants household income is at least $75,965"
   ]
  },
  {
   "cell_type": "code",
   "execution_count": 97,
   "metadata": {
    "collapsed": false
   },
   "outputs": [
    {
     "data": {
      "text/plain": [
       "count       829.000000\n",
       "mean      75965.018094\n",
       "std       59068.636748\n",
       "min           0.000000\n",
       "25%       25000.000000\n",
       "50%       75000.000000\n",
       "75%      100000.000000\n",
       "max      200000.000000\n",
       "Name: int_income, dtype: float64"
      ]
     },
     "execution_count": 97,
     "metadata": {},
     "output_type": "execute_result"
    }
   ],
   "source": [
    "def income_to_int (income):\n",
    "    if pd.isnull(income):\n",
    "        return None\n",
    "    income = income.split(' ')\n",
    "    income = income[0]\n",
    "    if(income == 'Prefer'):\n",
    "        return None\n",
    "    else:\n",
    "        income = income.replace('$', '')\n",
    "        income = income.replace(',', '')\n",
    "        return int(income)\n",
    "    \n",
    "data['int_income'] = data['How much total combined money did all members of your HOUSEHOLD earn last year?'].apply(income_to_int)\n",
    "data['int_income'].describe()"
   ]
  },
  {
   "cell_type": "markdown",
   "metadata": {},
   "source": [
    "## Income in relation to travel\n",
    "\n",
    "We can see that the number of people that stay home is higher in both groups regardless of income.  Most people not celebrating at home are celebrating in town. Very few people tavel more than a few hours for thanks giving in both groups."
   ]
  },
  {
   "cell_type": "code",
   "execution_count": 98,
   "metadata": {
    "collapsed": false
   },
   "outputs": [
    {
     "name": "stdout",
     "output_type": "stream",
     "text": [
      "People making less than $150,000\n",
      "\n",
      "\n",
      "Thanksgiving is happening at my home--I won't travel at all                         281\n",
      "Thanksgiving is local--it will take place in the town I live in                     203\n",
      "Thanksgiving is out of town but not too far--it's a drive of a few hours or less    150\n",
      "Thanksgiving is out of town and far away--I have to drive several hours or fly       55\n",
      "Name: How far will you travel for Thanksgiving?, dtype: int64\n",
      "\n",
      "\n",
      "\n",
      "People making greater than $150,000\n",
      "\n",
      "\n",
      "Thanksgiving is happening at my home--I won't travel at all                         49\n",
      "Thanksgiving is local--it will take place in the town I live in                     25\n",
      "Thanksgiving is out of town but not too far--it's a drive of a few hours or less    16\n",
      "Thanksgiving is out of town and far away--I have to drive several hours or fly      12\n",
      "Name: How far will you travel for Thanksgiving?, dtype: int64\n",
      "\n",
      "\n",
      "\n"
     ]
    }
   ],
   "source": [
    "print('People making less than $150,000\\n\\n' )\n",
    "print(data[data['int_income'] < 150000]['How far will you travel for Thanksgiving?'].value_counts())\n",
    "print('\\n\\n')\n",
    "\n",
    "print('People making greater than $150,000\\n\\n')\n",
    "print(data[data['int_income'] > 150000]['How far will you travel for Thanksgiving?'].value_counts())\n",
    "print('\\n\\n')\n"
   ]
  },
  {
   "cell_type": "code",
   "execution_count": 99,
   "metadata": {
    "collapsed": false
   },
   "outputs": [
    {
     "data": {
      "text/html": [
       "<div>\n",
       "<style scoped>\n",
       "    .dataframe tbody tr th:only-of-type {\n",
       "        vertical-align: middle;\n",
       "    }\n",
       "\n",
       "    .dataframe tbody tr th {\n",
       "        vertical-align: top;\n",
       "    }\n",
       "\n",
       "    .dataframe thead th {\n",
       "        text-align: right;\n",
       "    }\n",
       "</style>\n",
       "<table border=\"1\" class=\"dataframe\">\n",
       "  <thead>\n",
       "    <tr style=\"text-align: right;\">\n",
       "      <th>Have you ever attended a \"Friendsgiving?\"</th>\n",
       "      <th>No</th>\n",
       "      <th>Yes</th>\n",
       "    </tr>\n",
       "    <tr>\n",
       "      <th>Have you ever tried to meet up with hometown friends on Thanksgiving night?</th>\n",
       "      <th></th>\n",
       "      <th></th>\n",
       "    </tr>\n",
       "  </thead>\n",
       "  <tbody>\n",
       "    <tr>\n",
       "      <th>No</th>\n",
       "      <td>42.283702</td>\n",
       "      <td>37.010526</td>\n",
       "    </tr>\n",
       "    <tr>\n",
       "      <th>Yes</th>\n",
       "      <td>41.475410</td>\n",
       "      <td>33.976744</td>\n",
       "    </tr>\n",
       "  </tbody>\n",
       "</table>\n",
       "</div>"
      ],
      "text/plain": [
       "Have you ever attended a \"Friendsgiving?\"                  No        Yes\n",
       "Have you ever tried to meet up with hometown fr...                      \n",
       "No                                                  42.283702  37.010526\n",
       "Yes                                                 41.475410  33.976744"
      ]
     },
     "execution_count": 99,
     "metadata": {},
     "output_type": "execute_result"
    }
   ],
   "source": [
    "data.pivot_table(index=\"Have you ever tried to meet up with hometown friends on Thanksgiving night?\", columns='Have you ever attended a \"Friendsgiving?\"', values=\"int_age\")"
   ]
  },
  {
   "cell_type": "code",
   "execution_count": 107,
   "metadata": {
    "collapsed": false
   },
   "outputs": [
    {
     "data": {
      "text/html": [
       "<div>\n",
       "<style scoped>\n",
       "    .dataframe tbody tr th:only-of-type {\n",
       "        vertical-align: middle;\n",
       "    }\n",
       "\n",
       "    .dataframe tbody tr th {\n",
       "        vertical-align: top;\n",
       "    }\n",
       "\n",
       "    .dataframe thead th {\n",
       "        text-align: right;\n",
       "    }\n",
       "</style>\n",
       "<table border=\"1\" class=\"dataframe\">\n",
       "  <thead>\n",
       "    <tr style=\"text-align: right;\">\n",
       "      <th>Have you ever attended a \"Friendsgiving?\"</th>\n",
       "      <th>No</th>\n",
       "      <th>Yes</th>\n",
       "    </tr>\n",
       "    <tr>\n",
       "      <th>Have you ever tried to meet up with hometown friends on Thanksgiving night?</th>\n",
       "      <th></th>\n",
       "      <th></th>\n",
       "    </tr>\n",
       "  </thead>\n",
       "  <tbody>\n",
       "    <tr>\n",
       "      <th>No</th>\n",
       "      <td>78914.549654</td>\n",
       "      <td>72894.736842</td>\n",
       "    </tr>\n",
       "    <tr>\n",
       "      <th>Yes</th>\n",
       "      <td>78750.000000</td>\n",
       "      <td>66019.736842</td>\n",
       "    </tr>\n",
       "  </tbody>\n",
       "</table>\n",
       "</div>"
      ],
      "text/plain": [
       "Have you ever attended a \"Friendsgiving?\"                     No           Yes\n",
       "Have you ever tried to meet up with hometown fr...                            \n",
       "No                                                  78914.549654  72894.736842\n",
       "Yes                                                 78750.000000  66019.736842"
      ]
     },
     "execution_count": 107,
     "metadata": {},
     "output_type": "execute_result"
    }
   ],
   "source": [
    "data.pivot_table(index='Have you ever tried to meet up with hometown friends on Thanksgiving night?', columns='Have you ever attended a \"Friendsgiving?\"', values=\"int_income\")"
   ]
  },
  {
   "cell_type": "markdown",
   "metadata": {},
   "source": [
    "## Hometown meetups, Friendsgivig, and Income\n",
    "\n",
    "Based off the pivot tables we can see that younger people are more likely to have a Friendsgiving, meet up with friends in their hometown, and make slightly less income.\n",
    "\n",
    "their older counter parts who have not had a friendsgiving, or met up with friends in their hometown"
   ]
  }
 ],
 "metadata": {
  "kernelspec": {
   "display_name": "Python 3",
   "language": "python",
   "name": "python3"
  },
  "language_info": {
   "codemirror_mode": {
    "name": "ipython",
    "version": 3
   },
   "file_extension": ".py",
   "mimetype": "text/x-python",
   "name": "python",
   "nbconvert_exporter": "python",
   "pygments_lexer": "ipython3",
   "version": "3.4.3"
  }
 },
 "nbformat": 4,
 "nbformat_minor": 0
}
